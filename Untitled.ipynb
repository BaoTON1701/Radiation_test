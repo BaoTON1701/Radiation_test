{
 "cells": [
  {
   "cell_type": "code",
   "execution_count": 2,
   "id": "e53bc8cc-0210-4829-a3fb-c1dbf2abc251",
   "metadata": {},
   "outputs": [
    {
     "name": "stdout",
     "output_type": "stream",
     "text": [
      "Conversion complete. .DAT file 'data/Oszi/step4/B1DHf4.DAT' has been converted to .TXT file 'data/Oszi/step4/B1DHf4.TXT'.\n"
     ]
    }
   ],
   "source": [
    "def convert_dat_to_txt(input_file, output_file, encoding='utf-8'):\n",
    "    with open(input_file, 'rb') as f_in:\n",
    "        with open(output_file, 'w', encoding=encoding) as f_out:\n",
    "            for line in f_in:\n",
    "                try:\n",
    "                    line = line.decode(encoding)\n",
    "                    f_out.write(line)\n",
    "                except UnicodeDecodeError:\n",
    "                    print(f\"Error decoding line: {line}\")\n",
    "    print(f\"Conversion complete. .DAT file '{input_file}' has been converted to .TXT file '{output_file}'.\")\n",
    "\n",
    "# Example usage\n",
    "input_file = 'data/Oszi/step4/B1DHf4.DAT'\n",
    "output_file = 'data/Oszi/step4/B1DHf4.TXT'\n",
    "\n",
    "convert_dat_to_txt(input_file, output_file, encoding='latin-1')"
   ]
  },
  {
   "cell_type": "code",
   "execution_count": null,
   "id": "d39feb27-12e1-4b32-9f5e-f757393bba36",
   "metadata": {},
   "outputs": [],
   "source": []
  }
 ],
 "metadata": {
  "kernelspec": {
   "display_name": "Python 3 (ipykernel)",
   "language": "python",
   "name": "python3"
  },
  "language_info": {
   "codemirror_mode": {
    "name": "ipython",
    "version": 3
   },
   "file_extension": ".py",
   "mimetype": "text/x-python",
   "name": "python",
   "nbconvert_exporter": "python",
   "pygments_lexer": "ipython3",
   "version": "3.9.6"
  }
 },
 "nbformat": 4,
 "nbformat_minor": 5
}
